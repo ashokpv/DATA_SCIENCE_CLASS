{
 "cells": [
  {
   "cell_type": "code",
   "execution_count": 2,
   "metadata": {
    "collapsed": false
   },
   "outputs": [],
   "source": [
    "import pandas as pd\n",
    "import numpy as np\n",
    "import seaborn as sns\n",
    "sns.set(style='white')\n",
    "import matplotlib.pyplot as plt\n",
    "from sklearn.preprocessing import LabelEncoder\n",
    "from sklearn.cross_validation import train_test_split\n",
    "from sklearn.preprocessing import StandardScaler\n",
    "from sklearn.ensemble import RandomForestClassifier\n",
    "from sklearn.linear_model import LinearRegression\n",
    "from sklearn.tree import DecisionTreeRegressor\n",
    "from sklearn.neighbors import KNeighborsRegressor\n",
    "from sklearn.svm import SVR\n",
    "from sklearn.pipeline import Pipeline\n",
    "from sklearn.ensemble import RandomForestRegressor\n",
    "from sklearn.ensemble import GradientBoostingRegressor\n",
    "from sklearn.ensemble import ExtraTreesRegressor\n",
    "from sklearn.ensemble import AdaBoostRegressor\n",
    "from sklearn.metrics import mean_squared_error"
   ]
  },
  {
   "cell_type": "code",
   "execution_count": 3,
   "metadata": {
    "collapsed": true
   },
   "outputs": [],
   "source": [
    "df = pd.read_csv(\"/home/ash/Downloads/xAPI-Edu-Data.csv\")\n"
   ]
  },
  {
   "cell_type": "code",
   "execution_count": 4,
   "metadata": {
    "collapsed": false
   },
   "outputs": [
    {
     "data": {
      "text/plain": [
       "Index(['gender', 'NationalITy', 'PlaceofBirth', 'StageID', 'GradeID',\n",
       "       'SectionID', 'Topic', 'Semester', 'Relation', 'raisedhands',\n",
       "       'VisITedResources', 'AnnouncementsView', 'Discussion',\n",
       "       'ParentAnsweringSurvey', 'ParentschoolSatisfaction',\n",
       "       'StudentAbsenceDays', 'Class'],\n",
       "      dtype='object')"
      ]
     },
     "execution_count": 4,
     "metadata": {},
     "output_type": "execute_result"
    }
   ],
   "source": [
    "df.columns"
   ]
  },
  {
   "cell_type": "code",
   "execution_count": 5,
   "metadata": {
    "collapsed": true
   },
   "outputs": [],
   "source": [
    "df = df.drop('PlaceofBirth',1)\n"
   ]
  },
  {
   "cell_type": "code",
   "execution_count": 6,
   "metadata": {
    "collapsed": false
   },
   "outputs": [
    {
     "data": {
      "text/html": [
       "<div>\n",
       "<style scoped>\n",
       "    .dataframe tbody tr th:only-of-type {\n",
       "        vertical-align: middle;\n",
       "    }\n",
       "\n",
       "    .dataframe tbody tr th {\n",
       "        vertical-align: top;\n",
       "    }\n",
       "\n",
       "    .dataframe thead th {\n",
       "        text-align: right;\n",
       "    }\n",
       "</style>\n",
       "<table border=\"1\" class=\"dataframe\">\n",
       "  <thead>\n",
       "    <tr style=\"text-align: right;\">\n",
       "      <th></th>\n",
       "      <th>gender</th>\n",
       "      <th>NationalITy</th>\n",
       "      <th>StageID</th>\n",
       "      <th>GradeID</th>\n",
       "      <th>SectionID</th>\n",
       "      <th>Topic</th>\n",
       "      <th>Semester</th>\n",
       "      <th>Relation</th>\n",
       "      <th>raisedhands</th>\n",
       "      <th>VisITedResources</th>\n",
       "      <th>AnnouncementsView</th>\n",
       "      <th>Discussion</th>\n",
       "      <th>ParentAnsweringSurvey</th>\n",
       "      <th>ParentschoolSatisfaction</th>\n",
       "      <th>StudentAbsenceDays</th>\n",
       "      <th>Class</th>\n",
       "    </tr>\n",
       "  </thead>\n",
       "  <tbody>\n",
       "    <tr>\n",
       "      <th>0</th>\n",
       "      <td>M</td>\n",
       "      <td>KW</td>\n",
       "      <td>lowerlevel</td>\n",
       "      <td>G-04</td>\n",
       "      <td>A</td>\n",
       "      <td>IT</td>\n",
       "      <td>F</td>\n",
       "      <td>Father</td>\n",
       "      <td>15</td>\n",
       "      <td>16</td>\n",
       "      <td>2</td>\n",
       "      <td>20</td>\n",
       "      <td>Yes</td>\n",
       "      <td>Good</td>\n",
       "      <td>Under-7</td>\n",
       "      <td>M</td>\n",
       "    </tr>\n",
       "    <tr>\n",
       "      <th>1</th>\n",
       "      <td>M</td>\n",
       "      <td>KW</td>\n",
       "      <td>lowerlevel</td>\n",
       "      <td>G-04</td>\n",
       "      <td>A</td>\n",
       "      <td>IT</td>\n",
       "      <td>F</td>\n",
       "      <td>Father</td>\n",
       "      <td>20</td>\n",
       "      <td>20</td>\n",
       "      <td>3</td>\n",
       "      <td>25</td>\n",
       "      <td>Yes</td>\n",
       "      <td>Good</td>\n",
       "      <td>Under-7</td>\n",
       "      <td>M</td>\n",
       "    </tr>\n",
       "    <tr>\n",
       "      <th>2</th>\n",
       "      <td>M</td>\n",
       "      <td>KW</td>\n",
       "      <td>lowerlevel</td>\n",
       "      <td>G-04</td>\n",
       "      <td>A</td>\n",
       "      <td>IT</td>\n",
       "      <td>F</td>\n",
       "      <td>Father</td>\n",
       "      <td>10</td>\n",
       "      <td>7</td>\n",
       "      <td>0</td>\n",
       "      <td>30</td>\n",
       "      <td>No</td>\n",
       "      <td>Bad</td>\n",
       "      <td>Above-7</td>\n",
       "      <td>L</td>\n",
       "    </tr>\n",
       "    <tr>\n",
       "      <th>3</th>\n",
       "      <td>M</td>\n",
       "      <td>KW</td>\n",
       "      <td>lowerlevel</td>\n",
       "      <td>G-04</td>\n",
       "      <td>A</td>\n",
       "      <td>IT</td>\n",
       "      <td>F</td>\n",
       "      <td>Father</td>\n",
       "      <td>30</td>\n",
       "      <td>25</td>\n",
       "      <td>5</td>\n",
       "      <td>35</td>\n",
       "      <td>No</td>\n",
       "      <td>Bad</td>\n",
       "      <td>Above-7</td>\n",
       "      <td>L</td>\n",
       "    </tr>\n",
       "    <tr>\n",
       "      <th>4</th>\n",
       "      <td>M</td>\n",
       "      <td>KW</td>\n",
       "      <td>lowerlevel</td>\n",
       "      <td>G-04</td>\n",
       "      <td>A</td>\n",
       "      <td>IT</td>\n",
       "      <td>F</td>\n",
       "      <td>Father</td>\n",
       "      <td>40</td>\n",
       "      <td>50</td>\n",
       "      <td>12</td>\n",
       "      <td>50</td>\n",
       "      <td>No</td>\n",
       "      <td>Bad</td>\n",
       "      <td>Above-7</td>\n",
       "      <td>M</td>\n",
       "    </tr>\n",
       "  </tbody>\n",
       "</table>\n",
       "</div>"
      ],
      "text/plain": [
       "  gender NationalITy     StageID GradeID SectionID Topic Semester Relation  \\\n",
       "0      M          KW  lowerlevel    G-04         A    IT        F   Father   \n",
       "1      M          KW  lowerlevel    G-04         A    IT        F   Father   \n",
       "2      M          KW  lowerlevel    G-04         A    IT        F   Father   \n",
       "3      M          KW  lowerlevel    G-04         A    IT        F   Father   \n",
       "4      M          KW  lowerlevel    G-04         A    IT        F   Father   \n",
       "\n",
       "   raisedhands  VisITedResources  AnnouncementsView  Discussion  \\\n",
       "0           15                16                  2          20   \n",
       "1           20                20                  3          25   \n",
       "2           10                 7                  0          30   \n",
       "3           30                25                  5          35   \n",
       "4           40                50                 12          50   \n",
       "\n",
       "  ParentAnsweringSurvey ParentschoolSatisfaction StudentAbsenceDays Class  \n",
       "0                   Yes                     Good            Under-7     M  \n",
       "1                   Yes                     Good            Under-7     M  \n",
       "2                    No                      Bad            Above-7     L  \n",
       "3                    No                      Bad            Above-7     L  \n",
       "4                    No                      Bad            Above-7     M  "
      ]
     },
     "execution_count": 6,
     "metadata": {},
     "output_type": "execute_result"
    }
   ],
   "source": [
    "df.head(5)"
   ]
  },
  {
   "cell_type": "code",
   "execution_count": 7,
   "metadata": {
    "collapsed": false
   },
   "outputs": [
    {
     "data": {
      "text/plain": [
       "M    211\n",
       "H    142\n",
       "L    127\n",
       "Name: Class, dtype: int64"
      ]
     },
     "execution_count": 7,
     "metadata": {},
     "output_type": "execute_result"
    }
   ],
   "source": [
    "df.Class.value_counts()"
   ]
  },
  {
   "cell_type": "code",
   "execution_count": 8,
   "metadata": {
    "collapsed": false
   },
   "outputs": [
    {
     "name": "stdout",
     "output_type": "stream",
     "text": [
      "(480, 16)\n"
     ]
    }
   ],
   "source": [
    "ls = ['gender','Relation','Topic','SectionID','GradeID','NationalITy','Class','StageID','Semester','ParentAnsweringSurvey','ParentschoolSatisfaction','StudentAbsenceDays']\n",
    "\n",
    "for i in ls:\n",
    "    g = sns.factorplot(i,data=df,kind='count',size=3)\n",
    "\n",
    "print (df.shape)\n",
    "\n"
   ]
  },
  {
   "cell_type": "code",
   "execution_count": 10,
   "metadata": {
    "collapsed": false
   },
   "outputs": [
    {
     "name": "stdout",
     "output_type": "stream",
     "text": [
      "['M' 'M' 'L' 'L' 'M' 'M' 'L' 'M' 'M' 'M' 'H' 'M' 'L' 'L' 'H' 'M' 'M' 'M'\n",
      " 'M' 'H' 'M' 'M' 'M' 'L' 'L' 'L' 'M' 'L' 'M' 'M' 'H' 'L' 'L' 'L' 'L' 'L'\n",
      " 'L' 'M' 'L' 'M' 'L' 'M' 'L' 'M' 'M' 'L' 'L' 'H' 'H' 'M' 'L' 'L' 'M' 'H'\n",
      " 'L' 'L' 'L' 'L' 'M' 'M' 'L' 'M' 'H' 'M' 'L' 'L' 'M' 'H' 'H' 'M' 'L' 'M'\n",
      " 'L' 'M' 'L' 'M' 'M' 'M' 'L' 'H' 'L' 'L' 'L' 'M' 'H' 'L' 'H' 'L' 'L' 'L'\n",
      " 'L' 'H' 'H' 'H' 'L' 'H' 'H' 'M' 'M' 'M' 'M' 'H' 'L' 'L' 'M' 'L' 'M' 'H'\n",
      " 'M' 'M' 'H' 'M' 'L' 'L' 'L' 'L' 'M' 'H' 'M' 'M' 'M' 'L' 'M' 'M' 'L' 'L'\n",
      " 'M' 'L' 'L' 'L' 'L' 'M' 'L' 'L' 'H' 'H' 'H' 'M' 'H' 'M' 'L' 'L' 'M' 'H'\n",
      " 'L' 'M' 'H' 'M' 'M' 'H' 'H' 'M' 'H' 'L' 'M' 'H' 'M' 'M' 'L' 'M' 'H' 'M'\n",
      " 'H' 'M' 'M' 'H' 'M' 'H' 'H' 'M' 'H' 'M' 'L' 'L' 'M' 'L' 'H' 'M' 'H' 'M'\n",
      " 'H' 'L' 'H' 'M' 'L' 'H' 'M' 'M' 'H' 'M' 'L' 'L' 'M' 'M' 'M' 'M' 'H' 'H'\n",
      " 'L' 'M' 'H' 'H' 'M' 'M' 'L' 'H' 'M' 'M' 'M' 'M' 'H' 'M' 'H' 'L' 'L' 'L'\n",
      " 'M' 'M' 'H' 'M' 'M' 'M' 'M' 'H' 'H' 'M' 'L' 'L' 'H' 'L' 'M' 'L' 'M' 'M'\n",
      " 'M' 'L' 'L' 'M' 'M' 'H' 'H' 'M' 'L' 'M' 'H' 'M' 'H' 'M' 'L' 'M' 'H' 'L'\n",
      " 'M' 'L' 'H' 'H' 'H' 'M' 'M' 'L' 'L' 'M' 'M' 'M' 'M' 'H' 'M' 'M' 'M' 'M'\n",
      " 'H' 'M' 'M' 'H' 'H' 'H' 'H' 'H' 'M' 'M' 'H' 'H' 'H' 'H' 'M' 'M' 'H' 'H'\n",
      " 'M' 'M' 'L' 'L' 'H' 'H' 'M' 'M' 'H' 'H' 'M' 'M' 'L' 'L' 'M' 'M' 'M' 'M'\n",
      " 'H' 'H' 'M' 'M' 'M' 'M' 'H' 'H' 'H' 'H' 'H' 'H' 'H' 'H' 'M' 'M' 'L' 'L'\n",
      " 'M' 'M' 'L' 'L' 'M' 'M' 'L' 'L' 'M' 'M' 'L' 'L' 'M' 'M' 'M' 'M' 'M' 'M'\n",
      " 'M' 'M' 'H' 'H' 'H' 'H' 'L' 'L' 'L' 'L' 'M' 'M' 'H' 'H' 'M' 'M' 'H' 'H'\n",
      " 'M' 'M' 'H' 'H' 'H' 'H' 'M' 'M' 'H' 'H' 'M' 'M' 'L' 'L' 'L' 'L' 'M' 'M'\n",
      " 'L' 'L' 'L' 'L' 'H' 'H' 'H' 'H' 'M' 'M' 'L' 'L' 'M' 'M' 'H' 'H' 'H' 'H'\n",
      " 'M' 'M' 'H' 'H' 'M' 'M' 'H' 'H' 'H' 'H' 'L' 'L' 'M' 'M' 'H' 'H' 'M' 'M'\n",
      " 'L' 'L' 'H' 'H' 'H' 'H' 'H' 'H' 'M' 'M' 'H' 'H' 'M' 'M' 'L' 'L' 'H' 'H'\n",
      " 'M' 'M' 'M' 'M' 'M' 'M' 'M' 'M' 'M' 'M' 'M' 'M' 'L' 'L' 'M' 'M' 'H' 'H'\n",
      " 'H' 'H' 'M' 'M' 'M' 'M' 'H' 'H' 'H' 'H' 'M' 'M' 'M' 'M' 'H' 'H' 'H' 'H'\n",
      " 'L' 'L' 'M' 'M' 'M' 'M' 'L' 'L' 'M' 'M' 'L' 'L']\n"
     ]
    }
   ],
   "source": [
    "target = df.pop('Class')\n",
    "\n",
    "X = pd.get_dummies(df)\n",
    "\n",
    "le = LabelEncoder()\n",
    "y = le.fit_transform(target)\n",
    "\n",
    "print (le.inverse_transform(y))\n",
    "X_train, X_test, y_train, y_test = train_test_split(X,y,test_size=0.3,random_state=0)\n",
    "ss = StandardScaler()\n",
    "#print X_train\n",
    "X_train_std = ss.fit_transform(X_train)\n",
    "X_test_std = ss.fit_transform(X_test)\n",
    "#print "
   ]
  },
  {
   "cell_type": "code",
   "execution_count": 11,
   "metadata": {
    "collapsed": false
   },
   "outputs": [
    {
     "data": {
      "text/plain": [
       "array([[-0.57055772, -0.44480492, -0.6977657 , ...,  0.75180941,\n",
       "        -0.84515425,  0.84515425],\n",
       "       [-1.58865329, -1.48035647, -1.36050248, ..., -1.33012434,\n",
       "        -0.84515425,  0.84515425],\n",
       "       [-0.94385943,  0.31663004,  0.33315819, ..., -1.33012434,\n",
       "         1.18321596, -1.18321596],\n",
       "       ..., \n",
       "       [ 0.51541088,  0.28617264,  1.14316982, ...,  0.75180941,\n",
       "         1.18321596, -1.18321596],\n",
       "       [ 0.51541088,  0.46891703,  0.11224593, ..., -1.33012434,\n",
       "         1.18321596, -1.18321596],\n",
       "       [ 0.51541088,  0.28617264,  1.03271369, ...,  0.75180941,\n",
       "        -0.84515425,  0.84515425]])"
      ]
     },
     "execution_count": 11,
     "metadata": {},
     "output_type": "execute_result"
    }
   ],
   "source": [
    "X = pd.get_dummies(df)\n",
    "X\n",
    "X_test_std"
   ]
  },
  {
   "cell_type": "code",
   "execution_count": 12,
   "metadata": {
    "collapsed": false
   },
   "outputs": [
    {
     "name": "stdout",
     "output_type": "stream",
     "text": [
      " 1) VisITedResources               0.128494\n",
      " 2) raisedhands                    0.115890\n",
      " 3) AnnouncementsView              0.103508\n",
      " 4) StudentAbsenceDays_Above-7     0.077869\n",
      " 5) Discussion                     0.074674\n",
      " 6) StudentAbsenceDays_Under-7     0.072676\n",
      " 7) Relation_Mum                   0.031380\n",
      " 8) Relation_Father                0.029454\n",
      " 9) ParentAnsweringSurvey_No       0.026411\n",
      "10) ParentAnsweringSurvey_Yes      0.025430\n",
      "11) gender_F                       0.017401\n",
      "12) ParentschoolSatisfaction_Bad   0.017162\n",
      "13) gender_M                       0.016479\n",
      "14) ParentschoolSatisfaction_Good  0.015377\n",
      "15) NationalITy_KW                 0.015049\n",
      "16) NationalITy_Jordan             0.013333\n",
      "17) SectionID_A                    0.012821\n",
      "18) SectionID_B                    0.012658\n",
      "19) Topic_IT                       0.010894\n",
      "20) StageID_lowerlevel             0.010393\n",
      "21) StageID_MiddleSchool           0.010272\n",
      "22) GradeID_G-02                   0.009433\n",
      "23) Semester_S                     0.009408\n",
      "24) Semester_F                     0.008916\n",
      "25) Topic_French                   0.008220\n",
      "26) Topic_Chemistry                0.008182\n",
      "27) GradeID_G-08                   0.008057\n",
      "28) GradeID_G-07                   0.007723\n",
      "29) Topic_Arabic                   0.007487\n",
      "30) Topic_English                  0.007021\n",
      "31) NationalITy_SaudiArabia        0.006832\n",
      "32) Topic_Geology                  0.006520\n",
      "33) SectionID_C                    0.005710\n",
      "34) GradeID_G-04                   0.005550\n",
      "35) Topic_History                  0.005165\n",
      "36) NationalITy_Iraq               0.005133\n",
      "37) GradeID_G-06                   0.005080\n",
      "38) NationalITy_Palestine          0.004764\n",
      "39) StageID_HighSchool             0.004399\n",
      "40) Topic_Science                  0.004134\n",
      "41) Topic_Spanish                  0.003900\n",
      "42) Topic_Biology                  0.003747\n",
      "43) NationalITy_lebanon            0.003722\n",
      "44) Topic_Math                     0.003320\n",
      "45) Topic_Quran                    0.002935\n",
      "46) GradeID_G-11                   0.002555\n",
      "47) NationalITy_Tunis              0.002120\n",
      "48) NationalITy_Egypt              0.001931\n",
      "49) GradeID_G-12                   0.001859\n",
      "50) NationalITy_Syria              0.001770\n",
      "51) NationalITy_Iran               0.001631\n",
      "52) NationalITy_Lybia              0.001256\n",
      "53) NationalITy_USA                0.001088\n",
      "54) NationalITy_Morocco            0.001078\n",
      "55) GradeID_G-09                   0.000735\n",
      "56) GradeID_G-10                   0.000647\n",
      "57) NationalITy_venzuela           0.000185\n",
      "58) GradeID_G-05                   0.000162\n",
      "values predicted %s ['M' 'M' 'L' 'L' 'M' 'M' 'H' 'L' 'L' 'L' 'H' 'M' 'M' 'L' 'M' 'M' 'H' 'L'\n",
      " 'L' 'H' 'L' 'H' 'M' 'M' 'M' 'M' 'H' 'M' 'M' 'L' 'M' 'L' 'H' 'M' 'M' 'M'\n",
      " 'H' 'H' 'M' 'M' 'M' 'L' 'M' 'H' 'M' 'M' 'H' 'M' 'L' 'M' 'M' 'M' 'H' 'L'\n",
      " 'H' 'M' 'L' 'L' 'M' 'M' 'M' 'M' 'M' 'H' 'H' 'M' 'L' 'M' 'L' 'L' 'L' 'L'\n",
      " 'M' 'L' 'H' 'L' 'M' 'L' 'M' 'L' 'H' 'M' 'H' 'L' 'L' 'H' 'M' 'H' 'M' 'H'\n",
      " 'M' 'H' 'H' 'H' 'M' 'M' 'L' 'H' 'L' 'H' 'L' 'M' 'M' 'L' 'M' 'H' 'L' 'H'\n",
      " 'L' 'M' 'L' 'M' 'L' 'L' 'H' 'M' 'L' 'M' 'M' 'H' 'M' 'M' 'M' 'M' 'M' 'M'\n",
      " 'M' 'M' 'L' 'M' 'M' 'L' 'H' 'L' 'M' 'H' 'M' 'M' 'M' 'H' 'M' 'M' 'M' 'H']\n",
      "this is accuracy  0.784722222222\n"
     ]
    }
   ],
   "source": [
    "feat_labels = X.columns[:58]\n",
    "forest = RandomForestClassifier(n_estimators=1000,random_state=0,n_jobs=-1)\n",
    "forest.fit(X_train,y_train)\n",
    "importances = forest.feature_importances_\n",
    "indices = np.argsort(importances)[::-1]\n",
    "for f in range(X_train.shape[1]):\n",
    "    print(\"%2d) %-*s %f\" % (f + 1, 30,feat_labels[indices[f]],importances[indices[f]]))\n",
    "h = sns.barplot(importances[indices],feat_labels[indices])\n",
    "forest.score(X_test,y_test)\n",
    "k=forest.predict(X_test)\n",
    "v=le.inverse_transform(k)\n",
    "print(\"values predicted %s\", v)\n",
    "from sklearn.metrics import accuracy_score\n",
    "print(\"this is accuracy \",accuracy_score(y_test, k))"
   ]
  },
  {
   "cell_type": "code",
   "execution_count": null,
   "metadata": {
    "collapsed": true
   },
   "outputs": [],
   "source": [
    "\n"
   ]
  },
  {
   "cell_type": "code",
   "execution_count": 13,
   "metadata": {
    "collapsed": true
   },
   "outputs": [],
   "source": [
    "X_train_new = X_train\n",
    "X_test_new = X_test\n",
    "\n",
    "ls = ['VisITedResources','raisedhands','AnnouncementsView','StudentAbsenceDays_Above-7','StudentAbsenceDays_Under-7','Discussion']\n",
    "\n",
    "for i in X_train.columns:\n",
    "    if i in ls:\n",
    "        pass\n",
    "    else:\n",
    "        X_train_new.drop(i , axis=1, inplace=True)\n",
    "\n",
    "for i in X_test.columns:\n",
    "    if i in ls:\n",
    "        pass\n",
    "    else:\n",
    "        X_test_new.drop(i , axis=1, inplace=True)\n"
   ]
  },
  {
   "cell_type": "code",
   "execution_count": 27,
   "metadata": {
    "collapsed": true
   },
   "outputs": [],
   "source": [
    "X_train_new = ss.fit_transform(X_train_new)\n",
    "X_test_new = ss.fit_transform(X_test_new)"
   ]
  },
  {
   "cell_type": "code",
   "execution_count": 28,
   "metadata": {
    "collapsed": false
   },
   "outputs": [
    {
     "name": "stdout",
     "output_type": "stream",
     "text": [
      "values predicted %s ['M' 'M' 'L' 'M' 'M' 'M' 'H' 'L' 'L' 'M' 'M' 'L' 'M' 'L' 'M' 'M' 'M' 'L'\n",
      " 'M' 'H' 'L' 'M' 'M' 'M' 'M' 'M' 'M' 'M' 'M' 'L' 'H' 'L' 'H' 'M' 'M' 'M'\n",
      " 'H' 'H' 'M' 'M' 'M' 'L' 'H' 'H' 'H' 'M' 'M' 'M' 'L' 'L' 'M' 'M' 'H' 'L'\n",
      " 'H' 'M' 'L' 'L' 'M' 'M' 'M' 'H' 'M' 'H' 'H' 'M' 'M' 'M' 'L' 'L' 'L' 'L'\n",
      " 'H' 'L' 'H' 'L' 'H' 'L' 'M' 'L' 'M' 'M' 'M' 'L' 'L' 'H' 'M' 'H' 'M' 'H'\n",
      " 'H' 'H' 'H' 'H' 'H' 'M' 'L' 'H' 'L' 'H' 'L' 'H' 'M' 'L' 'M' 'H' 'L' 'H'\n",
      " 'L' 'M' 'L' 'M' 'L' 'L' 'H' 'M' 'M' 'H' 'H' 'H' 'M' 'M' 'H' 'H' 'M' 'M'\n",
      " 'M' 'H' 'M' 'M' 'M' 'L' 'H' 'L' 'M' 'H' 'M' 'M' 'M' 'H' 'M' 'M' 'M' 'M']\n",
      "this is accuracy  0.743055555556\n"
     ]
    }
   ],
   "source": [
    "forest = RandomForestClassifier(n_estimators=1000,random_state=0,n_jobs=-1)\n",
    "forest.fit(X_train_new,y_train)\n",
    "forest.score(X_test_new,y_test)\n",
    "k=forest.predict(X_test_new)\n",
    "v=le.inverse_transform(k)\n",
    "print(\"values predicted %s\", v)\n",
    "from sklearn.metrics import accuracy_score\n",
    "print(\"this is accuracy \",accuracy_score(y_test, k))"
   ]
  },
  {
   "cell_type": "code",
   "execution_count": 29,
   "metadata": {
    "collapsed": false
   },
   "outputs": [
    {
     "name": "stdout",
     "output_type": "stream",
     "text": [
      "Accuracy of GNB classifier on training set: 0.70\n",
      "Accuracy of GNB classifier on test set: 0.66\n"
     ]
    }
   ],
   "source": [
    "from sklearn.naive_bayes import GaussianNB\n",
    "\n",
    "gnb = GaussianNB()\n",
    "gnb.fit(X_train_new, y_train)\n",
    "print('Accuracy of GNB classifier on training set: {:.2f}'\n",
    "     .format(gnb.score(X_train_new, y_train)))\n",
    "print('Accuracy of GNB classifier on test set: {:.2f}'\n",
    "     .format(gnb.score(X_test_new, y_test)))"
   ]
  },
  {
   "cell_type": "code",
   "execution_count": 30,
   "metadata": {
    "collapsed": false
   },
   "outputs": [
    {
     "name": "stdout",
     "output_type": "stream",
     "text": [
      "Accuracy of SVM classifier on training set: 0.74\n",
      "Accuracy of SVM classifier on test set: 0.72\n"
     ]
    }
   ],
   "source": [
    "from sklearn.svm import SVC\n",
    "\n",
    "svm = SVC()\n",
    "svm.fit(X_train_new, y_train)\n",
    "print('Accuracy of SVM classifier on training set: {:.2f}'\n",
    "     .format(svm.score(X_train_new, y_train)))\n",
    "print('Accuracy of SVM classifier on test set: {:.2f}'\n",
    "     .format(svm.score(X_test_new, y_test)))"
   ]
  },
  {
   "cell_type": "code",
   "execution_count": null,
   "metadata": {
    "collapsed": false
   },
   "outputs": [],
   "source": []
  },
  {
   "cell_type": "code",
   "execution_count": null,
   "metadata": {
    "collapsed": false
   },
   "outputs": [],
   "source": []
  },
  {
   "cell_type": "code",
   "execution_count": null,
   "metadata": {
    "collapsed": false
   },
   "outputs": [],
   "source": []
  },
  {
   "cell_type": "code",
   "execution_count": null,
   "metadata": {
    "collapsed": false
   },
   "outputs": [],
   "source": []
  },
  {
   "cell_type": "code",
   "execution_count": null,
   "metadata": {
    "collapsed": false
   },
   "outputs": [],
   "source": []
  },
  {
   "cell_type": "code",
   "execution_count": null,
   "metadata": {
    "collapsed": false
   },
   "outputs": [],
   "source": []
  },
  {
   "cell_type": "code",
   "execution_count": null,
   "metadata": {
    "collapsed": true
   },
   "outputs": [],
   "source": []
  }
 ],
 "metadata": {
  "anaconda-cloud": {},
  "kernelspec": {
   "display_name": "Python [default]",
   "language": "python",
   "name": "python3"
  },
  "language_info": {
   "codemirror_mode": {
    "name": "ipython",
    "version": 3
   },
   "file_extension": ".py",
   "mimetype": "text/x-python",
   "name": "python",
   "nbconvert_exporter": "python",
   "pygments_lexer": "ipython3",
   "version": "3.5.2"
  }
 },
 "nbformat": 4,
 "nbformat_minor": 2
}
